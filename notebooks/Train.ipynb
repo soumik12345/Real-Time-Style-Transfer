{
  "nbformat": 4,
  "nbformat_minor": 0,
  "metadata": {
    "colab": {
      "name": "Train.ipynb",
      "provenance": [],
      "collapsed_sections": []
    },
    "kernelspec": {
      "name": "python3",
      "display_name": "Python 3"
    },
    "accelerator": "GPU",
    "widgets": {
      "application/vnd.jupyter.widget-state+json": {
        "8bb0d182e8a44bf88bb13bdcfbaf09d1": {
          "model_module": "@jupyter-widgets/controls",
          "model_name": "HBoxModel",
          "state": {
            "_view_name": "HBoxView",
            "_dom_classes": [],
            "_model_name": "HBoxModel",
            "_view_module": "@jupyter-widgets/controls",
            "_model_module_version": "1.5.0",
            "_view_count": null,
            "_view_module_version": "1.5.0",
            "box_style": "",
            "layout": "IPY_MODEL_e18604822c224321aa95597668e8a515",
            "_model_module": "@jupyter-widgets/controls",
            "children": [
              "IPY_MODEL_b36984667a14475e84b7560d4648485e",
              "IPY_MODEL_0a99d52e3c94430a93ea7e014565e6e5"
            ]
          }
        },
        "e18604822c224321aa95597668e8a515": {
          "model_module": "@jupyter-widgets/base",
          "model_name": "LayoutModel",
          "state": {
            "_view_name": "LayoutView",
            "grid_template_rows": null,
            "right": null,
            "justify_content": null,
            "_view_module": "@jupyter-widgets/base",
            "overflow": null,
            "_model_module_version": "1.2.0",
            "_view_count": null,
            "flex_flow": null,
            "width": null,
            "min_width": null,
            "border": null,
            "align_items": null,
            "bottom": null,
            "_model_module": "@jupyter-widgets/base",
            "top": null,
            "grid_column": null,
            "overflow_y": null,
            "overflow_x": null,
            "grid_auto_flow": null,
            "grid_area": null,
            "grid_template_columns": null,
            "flex": null,
            "_model_name": "LayoutModel",
            "justify_items": null,
            "grid_row": null,
            "max_height": null,
            "align_content": null,
            "visibility": null,
            "align_self": null,
            "height": null,
            "min_height": null,
            "padding": null,
            "grid_auto_rows": null,
            "grid_gap": null,
            "max_width": null,
            "order": null,
            "_view_module_version": "1.2.0",
            "grid_template_areas": null,
            "object_position": null,
            "object_fit": null,
            "grid_auto_columns": null,
            "margin": null,
            "display": null,
            "left": null
          }
        },
        "b36984667a14475e84b7560d4648485e": {
          "model_module": "@jupyter-widgets/controls",
          "model_name": "FloatProgressModel",
          "state": {
            "_view_name": "ProgressView",
            "style": "IPY_MODEL_ba86cb3fb3484fe0b0882c8a14e8c7c3",
            "_dom_classes": [],
            "description": "100%",
            "_model_name": "FloatProgressModel",
            "bar_style": "success",
            "max": 1143,
            "_view_module": "@jupyter-widgets/controls",
            "_model_module_version": "1.5.0",
            "value": 1143,
            "_view_count": null,
            "_view_module_version": "1.5.0",
            "orientation": "horizontal",
            "min": 0,
            "description_tooltip": null,
            "_model_module": "@jupyter-widgets/controls",
            "layout": "IPY_MODEL_ff903937d30a437eb8b45722de6aaeaf"
          }
        },
        "0a99d52e3c94430a93ea7e014565e6e5": {
          "model_module": "@jupyter-widgets/controls",
          "model_name": "HTMLModel",
          "state": {
            "_view_name": "HTMLView",
            "style": "IPY_MODEL_a878d7118ac04f7583ad59886c90444d",
            "_dom_classes": [],
            "description": "",
            "_model_name": "HTMLModel",
            "placeholder": "​",
            "_view_module": "@jupyter-widgets/controls",
            "_model_module_version": "1.5.0",
            "value": " 1143/1143 [13:56&lt;00:00,  1.37it/s]",
            "_view_count": null,
            "_view_module_version": "1.5.0",
            "description_tooltip": null,
            "_model_module": "@jupyter-widgets/controls",
            "layout": "IPY_MODEL_84ae7fc4cc594ac29079699109b96c60"
          }
        },
        "ba86cb3fb3484fe0b0882c8a14e8c7c3": {
          "model_module": "@jupyter-widgets/controls",
          "model_name": "ProgressStyleModel",
          "state": {
            "_view_name": "StyleView",
            "_model_name": "ProgressStyleModel",
            "description_width": "initial",
            "_view_module": "@jupyter-widgets/base",
            "_model_module_version": "1.5.0",
            "_view_count": null,
            "_view_module_version": "1.2.0",
            "bar_color": null,
            "_model_module": "@jupyter-widgets/controls"
          }
        },
        "ff903937d30a437eb8b45722de6aaeaf": {
          "model_module": "@jupyter-widgets/base",
          "model_name": "LayoutModel",
          "state": {
            "_view_name": "LayoutView",
            "grid_template_rows": null,
            "right": null,
            "justify_content": null,
            "_view_module": "@jupyter-widgets/base",
            "overflow": null,
            "_model_module_version": "1.2.0",
            "_view_count": null,
            "flex_flow": null,
            "width": null,
            "min_width": null,
            "border": null,
            "align_items": null,
            "bottom": null,
            "_model_module": "@jupyter-widgets/base",
            "top": null,
            "grid_column": null,
            "overflow_y": null,
            "overflow_x": null,
            "grid_auto_flow": null,
            "grid_area": null,
            "grid_template_columns": null,
            "flex": null,
            "_model_name": "LayoutModel",
            "justify_items": null,
            "grid_row": null,
            "max_height": null,
            "align_content": null,
            "visibility": null,
            "align_self": null,
            "height": null,
            "min_height": null,
            "padding": null,
            "grid_auto_rows": null,
            "grid_gap": null,
            "max_width": null,
            "order": null,
            "_view_module_version": "1.2.0",
            "grid_template_areas": null,
            "object_position": null,
            "object_fit": null,
            "grid_auto_columns": null,
            "margin": null,
            "display": null,
            "left": null
          }
        },
        "a878d7118ac04f7583ad59886c90444d": {
          "model_module": "@jupyter-widgets/controls",
          "model_name": "DescriptionStyleModel",
          "state": {
            "_view_name": "StyleView",
            "_model_name": "DescriptionStyleModel",
            "description_width": "",
            "_view_module": "@jupyter-widgets/base",
            "_model_module_version": "1.5.0",
            "_view_count": null,
            "_view_module_version": "1.2.0",
            "_model_module": "@jupyter-widgets/controls"
          }
        },
        "84ae7fc4cc594ac29079699109b96c60": {
          "model_module": "@jupyter-widgets/base",
          "model_name": "LayoutModel",
          "state": {
            "_view_name": "LayoutView",
            "grid_template_rows": null,
            "right": null,
            "justify_content": null,
            "_view_module": "@jupyter-widgets/base",
            "overflow": null,
            "_model_module_version": "1.2.0",
            "_view_count": null,
            "flex_flow": null,
            "width": null,
            "min_width": null,
            "border": null,
            "align_items": null,
            "bottom": null,
            "_model_module": "@jupyter-widgets/base",
            "top": null,
            "grid_column": null,
            "overflow_y": null,
            "overflow_x": null,
            "grid_auto_flow": null,
            "grid_area": null,
            "grid_template_columns": null,
            "flex": null,
            "_model_name": "LayoutModel",
            "justify_items": null,
            "grid_row": null,
            "max_height": null,
            "align_content": null,
            "visibility": null,
            "align_self": null,
            "height": null,
            "min_height": null,
            "padding": null,
            "grid_auto_rows": null,
            "grid_gap": null,
            "max_width": null,
            "order": null,
            "_view_module_version": "1.2.0",
            "grid_template_areas": null,
            "object_position": null,
            "object_fit": null,
            "grid_auto_columns": null,
            "margin": null,
            "display": null,
            "left": null
          }
        },
        "21511c2ceae846649b438130a1ec7253": {
          "model_module": "@jupyter-widgets/controls",
          "model_name": "HBoxModel",
          "state": {
            "_view_name": "HBoxView",
            "_dom_classes": [],
            "_model_name": "HBoxModel",
            "_view_module": "@jupyter-widgets/controls",
            "_model_module_version": "1.5.0",
            "_view_count": null,
            "_view_module_version": "1.5.0",
            "box_style": "",
            "layout": "IPY_MODEL_c97f9e428a2044c39d3ca99bf45cb5f8",
            "_model_module": "@jupyter-widgets/controls",
            "children": [
              "IPY_MODEL_b8930f1d54254e50a48b5e600114cd34",
              "IPY_MODEL_6a07d0e425fd488eaf8eebe4b4c10da6"
            ]
          }
        },
        "c97f9e428a2044c39d3ca99bf45cb5f8": {
          "model_module": "@jupyter-widgets/base",
          "model_name": "LayoutModel",
          "state": {
            "_view_name": "LayoutView",
            "grid_template_rows": null,
            "right": null,
            "justify_content": null,
            "_view_module": "@jupyter-widgets/base",
            "overflow": null,
            "_model_module_version": "1.2.0",
            "_view_count": null,
            "flex_flow": null,
            "width": null,
            "min_width": null,
            "border": null,
            "align_items": null,
            "bottom": null,
            "_model_module": "@jupyter-widgets/base",
            "top": null,
            "grid_column": null,
            "overflow_y": null,
            "overflow_x": null,
            "grid_auto_flow": null,
            "grid_area": null,
            "grid_template_columns": null,
            "flex": null,
            "_model_name": "LayoutModel",
            "justify_items": null,
            "grid_row": null,
            "max_height": null,
            "align_content": null,
            "visibility": null,
            "align_self": null,
            "height": null,
            "min_height": null,
            "padding": null,
            "grid_auto_rows": null,
            "grid_gap": null,
            "max_width": null,
            "order": null,
            "_view_module_version": "1.2.0",
            "grid_template_areas": null,
            "object_position": null,
            "object_fit": null,
            "grid_auto_columns": null,
            "margin": null,
            "display": null,
            "left": null
          }
        },
        "b8930f1d54254e50a48b5e600114cd34": {
          "model_module": "@jupyter-widgets/controls",
          "model_name": "FloatProgressModel",
          "state": {
            "_view_name": "ProgressView",
            "style": "IPY_MODEL_1fd39c6992384796abb46861c8a7aaaf",
            "_dom_classes": [],
            "description": "100%",
            "_model_name": "FloatProgressModel",
            "bar_style": "success",
            "max": 1143,
            "_view_module": "@jupyter-widgets/controls",
            "_model_module_version": "1.5.0",
            "value": 1143,
            "_view_count": null,
            "_view_module_version": "1.5.0",
            "orientation": "horizontal",
            "min": 0,
            "description_tooltip": null,
            "_model_module": "@jupyter-widgets/controls",
            "layout": "IPY_MODEL_88099fb073ba4bb2a2fc9665be060327"
          }
        },
        "6a07d0e425fd488eaf8eebe4b4c10da6": {
          "model_module": "@jupyter-widgets/controls",
          "model_name": "HTMLModel",
          "state": {
            "_view_name": "HTMLView",
            "style": "IPY_MODEL_06301e30a89245c6a5f7048b00b25a12",
            "_dom_classes": [],
            "description": "",
            "_model_name": "HTMLModel",
            "placeholder": "​",
            "_view_module": "@jupyter-widgets/controls",
            "_model_module_version": "1.5.0",
            "value": " 1143/1143 [13:39&lt;00:00,  1.39it/s]",
            "_view_count": null,
            "_view_module_version": "1.5.0",
            "description_tooltip": null,
            "_model_module": "@jupyter-widgets/controls",
            "layout": "IPY_MODEL_c05061eddda5428c8d5e27cf5d9c1c9f"
          }
        },
        "1fd39c6992384796abb46861c8a7aaaf": {
          "model_module": "@jupyter-widgets/controls",
          "model_name": "ProgressStyleModel",
          "state": {
            "_view_name": "StyleView",
            "_model_name": "ProgressStyleModel",
            "description_width": "initial",
            "_view_module": "@jupyter-widgets/base",
            "_model_module_version": "1.5.0",
            "_view_count": null,
            "_view_module_version": "1.2.0",
            "bar_color": null,
            "_model_module": "@jupyter-widgets/controls"
          }
        },
        "88099fb073ba4bb2a2fc9665be060327": {
          "model_module": "@jupyter-widgets/base",
          "model_name": "LayoutModel",
          "state": {
            "_view_name": "LayoutView",
            "grid_template_rows": null,
            "right": null,
            "justify_content": null,
            "_view_module": "@jupyter-widgets/base",
            "overflow": null,
            "_model_module_version": "1.2.0",
            "_view_count": null,
            "flex_flow": null,
            "width": null,
            "min_width": null,
            "border": null,
            "align_items": null,
            "bottom": null,
            "_model_module": "@jupyter-widgets/base",
            "top": null,
            "grid_column": null,
            "overflow_y": null,
            "overflow_x": null,
            "grid_auto_flow": null,
            "grid_area": null,
            "grid_template_columns": null,
            "flex": null,
            "_model_name": "LayoutModel",
            "justify_items": null,
            "grid_row": null,
            "max_height": null,
            "align_content": null,
            "visibility": null,
            "align_self": null,
            "height": null,
            "min_height": null,
            "padding": null,
            "grid_auto_rows": null,
            "grid_gap": null,
            "max_width": null,
            "order": null,
            "_view_module_version": "1.2.0",
            "grid_template_areas": null,
            "object_position": null,
            "object_fit": null,
            "grid_auto_columns": null,
            "margin": null,
            "display": null,
            "left": null
          }
        },
        "06301e30a89245c6a5f7048b00b25a12": {
          "model_module": "@jupyter-widgets/controls",
          "model_name": "DescriptionStyleModel",
          "state": {
            "_view_name": "StyleView",
            "_model_name": "DescriptionStyleModel",
            "description_width": "",
            "_view_module": "@jupyter-widgets/base",
            "_model_module_version": "1.5.0",
            "_view_count": null,
            "_view_module_version": "1.2.0",
            "_model_module": "@jupyter-widgets/controls"
          }
        },
        "c05061eddda5428c8d5e27cf5d9c1c9f": {
          "model_module": "@jupyter-widgets/base",
          "model_name": "LayoutModel",
          "state": {
            "_view_name": "LayoutView",
            "grid_template_rows": null,
            "right": null,
            "justify_content": null,
            "_view_module": "@jupyter-widgets/base",
            "overflow": null,
            "_model_module_version": "1.2.0",
            "_view_count": null,
            "flex_flow": null,
            "width": null,
            "min_width": null,
            "border": null,
            "align_items": null,
            "bottom": null,
            "_model_module": "@jupyter-widgets/base",
            "top": null,
            "grid_column": null,
            "overflow_y": null,
            "overflow_x": null,
            "grid_auto_flow": null,
            "grid_area": null,
            "grid_template_columns": null,
            "flex": null,
            "_model_name": "LayoutModel",
            "justify_items": null,
            "grid_row": null,
            "max_height": null,
            "align_content": null,
            "visibility": null,
            "align_self": null,
            "height": null,
            "min_height": null,
            "padding": null,
            "grid_auto_rows": null,
            "grid_gap": null,
            "max_width": null,
            "order": null,
            "_view_module_version": "1.2.0",
            "grid_template_areas": null,
            "object_position": null,
            "object_fit": null,
            "grid_auto_columns": null,
            "margin": null,
            "display": null,
            "left": null
          }
        }
      }
    }
  },
  "cells": [
    {
      "cell_type": "code",
      "metadata": {
        "colab": {
          "base_uri": "https://localhost:8080/"
        },
        "id": "-hoMwuf0SP5N",
        "outputId": "af38a93a-4edc-458e-9247-35a1789c652d"
      },
      "source": [
        "!nvidia-smi -L"
      ],
      "execution_count": 1,
      "outputs": [
        {
          "output_type": "stream",
          "text": [
            "GPU 0: Tesla T4 (UUID: GPU-7026c806-6de8-cee3-093b-90d9f4baaeda)\n"
          ],
          "name": "stdout"
        }
      ]
    },
    {
      "cell_type": "code",
      "metadata": {
        "colab": {
          "base_uri": "https://localhost:8080/"
        },
        "id": "kfHj9lZ8Pw4l",
        "outputId": "e053c33d-f5a8-4cab-a200-ad1eb202a1c2"
      },
      "source": [
        "from google.colab import drive\n",
        "drive.mount('/content/drive')"
      ],
      "execution_count": 2,
      "outputs": [
        {
          "output_type": "stream",
          "text": [
            "Mounted at /content/drive\n"
          ],
          "name": "stdout"
        }
      ]
    },
    {
      "cell_type": "code",
      "metadata": {
        "colab": {
          "base_uri": "https://localhost:8080/"
        },
        "id": "GRPQPHh9Py6w",
        "outputId": "89f73546-b00f-4a59-aefa-cd0fa36d989e"
      },
      "source": [
        "import os\n",
        "import urllib\n",
        "from getpass import getpass\n",
        "\n",
        "\n",
        "user = input('User name: ')\n",
        "password = getpass('Password: ')\n",
        "password = urllib.parse.quote(password)\n",
        "repo_address = input('Repo Address: ')\n",
        "branch_name = input('Branch name: ')\n",
        "\n",
        "cmd_string = 'git clone https://{}:{}@github.com/{}.git -b {}'.format(\n",
        "    user, password, repo_address, branch_name\n",
        ")\n",
        "\n",
        "os.system(cmd_string)\n",
        "cmd_string, password = \"\", \"\""
      ],
      "execution_count": 4,
      "outputs": [
        {
          "output_type": "stream",
          "text": [
            "User name: soumik12345\n",
            "Password: ··········\n",
            "Repo Address: soumik12345/Real-Time-Style-Transfer\n",
            "Branch name: master\n"
          ],
          "name": "stdout"
        }
      ]
    },
    {
      "cell_type": "code",
      "metadata": {
        "colab": {
          "base_uri": "https://localhost:8080/"
        },
        "id": "0TTr2utwQBxk",
        "outputId": "00ffaefc-83e6-4cee-8914-c8cd2cab327d"
      },
      "source": [
        "%cd ./Real-Time-Style-Transfer\n",
        "!pip install -qq wandb tensorflow-addons"
      ],
      "execution_count": 1,
      "outputs": [
        {
          "output_type": "stream",
          "text": [
            "/content/Real-Time-Style-Transfer\n"
          ],
          "name": "stdout"
        }
      ]
    },
    {
      "cell_type": "code",
      "metadata": {
        "id": "32DTCKLySV2z"
      },
      "source": [
        "from glob import glob\n",
        "from style_transfer import Trainer\n",
        "from style_transfer import Dataloader"
      ],
      "execution_count": 2,
      "outputs": []
    },
    {
      "cell_type": "code",
      "metadata": {
        "colab": {
          "base_uri": "https://localhost:8080/"
        },
        "id": "fnLdfr59SY3w",
        "outputId": "619512ce-ed4e-4ddc-c6ee-5e492da39424"
      },
      "source": [
        "image_files = glob('../drive/MyDrive/Datasets/coco_2014_train/train2014/*.jpg')\n",
        "print(len(image_files))"
      ],
      "execution_count": 3,
      "outputs": [
        {
          "output_type": "stream",
          "text": [
            "18281\n"
          ],
          "name": "stdout"
        }
      ]
    },
    {
      "cell_type": "code",
      "metadata": {
        "colab": {
          "base_uri": "https://localhost:8080/"
        },
        "id": "btQY2N2SSaES",
        "outputId": "ee97de2a-da54-4cb3-cd3d-21a1836d5727"
      },
      "source": [
        "dataloader = Dataloader(image_size=256)\n",
        "dataset = dataloader.get_dataset(image_files, batch_size=16)\n",
        "dataset"
      ],
      "execution_count": 4,
      "outputs": [
        {
          "output_type": "execute_result",
          "data": {
            "text/plain": [
              "<PrefetchDataset shapes: (None, 256, 256, 3), types: tf.float32>"
            ]
          },
          "metadata": {
            "tags": []
          },
          "execution_count": 4
        }
      ]
    },
    {
      "cell_type": "code",
      "metadata": {
        "colab": {
          "base_uri": "https://localhost:8080/"
        },
        "id": "Fv42cjsfRyD5",
        "outputId": "13786ba7-276a-43bc-9603-3b11d6210ab0"
      },
      "source": [
        "!wget https://cdn.britannica.com/78/43678-050-F4DC8D93/Starry-Night-canvas-Vincent-van-Gogh-New-1889.jpg"
      ],
      "execution_count": 12,
      "outputs": [
        {
          "output_type": "stream",
          "text": [
            "--2021-02-23 05:12:06--  https://cdn.britannica.com/78/43678-050-F4DC8D93/Starry-Night-canvas-Vincent-van-Gogh-New-1889.jpg\n",
            "Resolving cdn.britannica.com (cdn.britannica.com)... 99.86.189.49, 99.86.189.83, 99.86.189.115, ...\n",
            "Connecting to cdn.britannica.com (cdn.britannica.com)|99.86.189.49|:443... connected.\n",
            "HTTP request sent, awaiting response... 200 OK\n",
            "Length: 884624 (864K) [image/jpeg]\n",
            "Saving to: ‘Starry-Night-canvas-Vincent-van-Gogh-New-1889.jpg’\n",
            "\n",
            "\r          Starry-Ni   0%[                    ]       0  --.-KB/s               \rStarry-Night-canvas 100%[===================>] 863.89K  --.-KB/s    in 0.007s  \n",
            "\n",
            "2021-02-23 05:12:06 (120 MB/s) - ‘Starry-Night-canvas-Vincent-van-Gogh-New-1889.jpg’ saved [884624/884624]\n",
            "\n"
          ],
          "name": "stdout"
        }
      ]
    },
    {
      "cell_type": "code",
      "metadata": {
        "id": "HqL6g97aSbQT"
      },
      "source": [
        "trainer = Trainer(\n",
        "    experiment_name='experiment_van_gogh_starry_night_tv_loss',\n",
        "    wandb_api_key='cf0947ccde62903d4df0742a58b8a54ca4c11673',\n",
        "    sample_content_image_file=glob('../drive/MyDrive/Datasets/coco_2014_train/train2014/*1024.jpg')[0],\n",
        "    style_image_file='/content/Real-Time-Style-Transfer/Starry-Night-canvas-Vincent-van-Gogh-New-1889.jpg',\n",
        "    style_weight=10.0, content_weight=10.0, content_layers=['block2_conv2'], total_variation_weight=1e-4,\n",
        "    style_layers=['block1_conv2', 'block2_conv2', 'block3_conv3', 'block4_conv3']\n",
        ")"
      ],
      "execution_count": 6,
      "outputs": []
    },
    {
      "cell_type": "code",
      "metadata": {
        "colab": {
          "base_uri": "https://localhost:8080/",
          "height": 153
        },
        "id": "Cv7YC0YKScfj",
        "outputId": "cf2c2b15-cb33-48ba-8dbf-035faeb34c03"
      },
      "source": [
        "trainer.compile(dataset=dataset, learning_rate=1e-3)"
      ],
      "execution_count": 7,
      "outputs": [
        {
          "output_type": "stream",
          "text": [
            "\u001b[34m\u001b[1mwandb\u001b[0m: Currently logged in as: \u001b[33m19soumik-rakshit96\u001b[0m (use `wandb login --relogin` to force relogin)\n"
          ],
          "name": "stderr"
        },
        {
          "output_type": "display_data",
          "data": {
            "text/html": [
              "\n",
              "                Tracking run with wandb version 0.10.20<br/>\n",
              "                Syncing run <strong style=\"color:#cdcd00\">experiment_van_gogh_starry_night_tv_loss</strong> to <a href=\"https://wandb.ai\" target=\"_blank\">Weights & Biases</a> <a href=\"https://docs.wandb.com/integrations/jupyter.html\" target=\"_blank\">(Documentation)</a>.<br/>\n",
              "                Project page: <a href=\"https://wandb.ai/19soumik-rakshit96/real-time-style-transfer\" target=\"_blank\">https://wandb.ai/19soumik-rakshit96/real-time-style-transfer</a><br/>\n",
              "                Run page: <a href=\"https://wandb.ai/19soumik-rakshit96/real-time-style-transfer/runs/1xu1ocxm\" target=\"_blank\">https://wandb.ai/19soumik-rakshit96/real-time-style-transfer/runs/1xu1ocxm</a><br/>\n",
              "                Run data is saved locally in <code>/content/Real-Time-Style-Transfer/wandb/run-20210223_062910-1xu1ocxm</code><br/><br/>\n",
              "            "
            ],
            "text/plain": [
              "<IPython.core.display.HTML object>"
            ]
          },
          "metadata": {
            "tags": []
          }
        },
        {
          "output_type": "stream",
          "text": [
            "Training from scratch....\n"
          ],
          "name": "stdout"
        }
      ]
    },
    {
      "cell_type": "code",
      "metadata": {
        "colab": {
          "base_uri": "https://localhost:8080/",
          "height": 914,
          "referenced_widgets": [
            "8bb0d182e8a44bf88bb13bdcfbaf09d1",
            "e18604822c224321aa95597668e8a515",
            "b36984667a14475e84b7560d4648485e",
            "0a99d52e3c94430a93ea7e014565e6e5",
            "ba86cb3fb3484fe0b0882c8a14e8c7c3",
            "ff903937d30a437eb8b45722de6aaeaf",
            "a878d7118ac04f7583ad59886c90444d",
            "84ae7fc4cc594ac29079699109b96c60",
            "21511c2ceae846649b438130a1ec7253",
            "c97f9e428a2044c39d3ca99bf45cb5f8",
            "b8930f1d54254e50a48b5e600114cd34",
            "6a07d0e425fd488eaf8eebe4b4c10da6",
            "1fd39c6992384796abb46861c8a7aaaf",
            "88099fb073ba4bb2a2fc9665be060327",
            "06301e30a89245c6a5f7048b00b25a12",
            "c05061eddda5428c8d5e27cf5d9c1c9f"
          ]
        },
        "id": "OO4rgAaYSeL5",
        "outputId": "bc8ffcde-10f7-42ec-f9cb-cf7cd7d4290a"
      },
      "source": [
        "trainer.train(epochs=2, log_interval=50, notebook=True)"
      ],
      "execution_count": 8,
      "outputs": [
        {
          "output_type": "stream",
          "text": [
            "Epoch: (1/2)\n"
          ],
          "name": "stdout"
        },
        {
          "output_type": "display_data",
          "data": {
            "application/vnd.jupyter.widget-view+json": {
              "model_id": "8bb0d182e8a44bf88bb13bdcfbaf09d1",
              "version_minor": 0,
              "version_major": 2
            },
            "text/plain": [
              "HBox(children=(FloatProgress(value=0.0, max=1143.0), HTML(value='')))"
            ]
          },
          "metadata": {
            "tags": []
          }
        },
        {
          "output_type": "stream",
          "text": [
            "Saved checkpoint: ./logs/checkpoints/experiment_van_gogh_starry_night_tv_loss/ckpt-1\n",
            "Saved checkpoint: ./logs/checkpoints/experiment_van_gogh_starry_night_tv_loss/ckpt-2\n",
            "Saved checkpoint: ./logs/checkpoints/experiment_van_gogh_starry_night_tv_loss/ckpt-3\n",
            "Saved checkpoint: ./logs/checkpoints/experiment_van_gogh_starry_night_tv_loss/ckpt-4\n",
            "Saved checkpoint: ./logs/checkpoints/experiment_van_gogh_starry_night_tv_loss/ckpt-5\n",
            "Saved checkpoint: ./logs/checkpoints/experiment_van_gogh_starry_night_tv_loss/ckpt-6\n",
            "Saved checkpoint: ./logs/checkpoints/experiment_van_gogh_starry_night_tv_loss/ckpt-7\n",
            "Saved checkpoint: ./logs/checkpoints/experiment_van_gogh_starry_night_tv_loss/ckpt-8\n",
            "Saved checkpoint: ./logs/checkpoints/experiment_van_gogh_starry_night_tv_loss/ckpt-9\n",
            "Saved checkpoint: ./logs/checkpoints/experiment_van_gogh_starry_night_tv_loss/ckpt-10\n",
            "Saved checkpoint: ./logs/checkpoints/experiment_van_gogh_starry_night_tv_loss/ckpt-11\n",
            "Saved checkpoint: ./logs/checkpoints/experiment_van_gogh_starry_night_tv_loss/ckpt-12\n",
            "Saved checkpoint: ./logs/checkpoints/experiment_van_gogh_starry_night_tv_loss/ckpt-13\n",
            "Saved checkpoint: ./logs/checkpoints/experiment_van_gogh_starry_night_tv_loss/ckpt-14\n",
            "Saved checkpoint: ./logs/checkpoints/experiment_van_gogh_starry_night_tv_loss/ckpt-15\n",
            "Saved checkpoint: ./logs/checkpoints/experiment_van_gogh_starry_night_tv_loss/ckpt-16\n",
            "Saved checkpoint: ./logs/checkpoints/experiment_van_gogh_starry_night_tv_loss/ckpt-17\n",
            "Saved checkpoint: ./logs/checkpoints/experiment_van_gogh_starry_night_tv_loss/ckpt-18\n",
            "Saved checkpoint: ./logs/checkpoints/experiment_van_gogh_starry_night_tv_loss/ckpt-19\n",
            "Saved checkpoint: ./logs/checkpoints/experiment_van_gogh_starry_night_tv_loss/ckpt-20\n",
            "Saved checkpoint: ./logs/checkpoints/experiment_van_gogh_starry_night_tv_loss/ckpt-21\n",
            "Saved checkpoint: ./logs/checkpoints/experiment_van_gogh_starry_night_tv_loss/ckpt-22\n",
            "\n",
            "Epoch: (2/2)\n"
          ],
          "name": "stdout"
        },
        {
          "output_type": "display_data",
          "data": {
            "application/vnd.jupyter.widget-view+json": {
              "model_id": "21511c2ceae846649b438130a1ec7253",
              "version_minor": 0,
              "version_major": 2
            },
            "text/plain": [
              "HBox(children=(FloatProgress(value=0.0, max=1143.0), HTML(value='')))"
            ]
          },
          "metadata": {
            "tags": []
          }
        },
        {
          "output_type": "stream",
          "text": [
            "Saved checkpoint: ./logs/checkpoints/experiment_van_gogh_starry_night_tv_loss/ckpt-23\n",
            "Saved checkpoint: ./logs/checkpoints/experiment_van_gogh_starry_night_tv_loss/ckpt-24\n",
            "Saved checkpoint: ./logs/checkpoints/experiment_van_gogh_starry_night_tv_loss/ckpt-25\n",
            "Saved checkpoint: ./logs/checkpoints/experiment_van_gogh_starry_night_tv_loss/ckpt-26\n",
            "Saved checkpoint: ./logs/checkpoints/experiment_van_gogh_starry_night_tv_loss/ckpt-27\n",
            "Saved checkpoint: ./logs/checkpoints/experiment_van_gogh_starry_night_tv_loss/ckpt-28\n",
            "Saved checkpoint: ./logs/checkpoints/experiment_van_gogh_starry_night_tv_loss/ckpt-29\n",
            "Saved checkpoint: ./logs/checkpoints/experiment_van_gogh_starry_night_tv_loss/ckpt-30\n",
            "Saved checkpoint: ./logs/checkpoints/experiment_van_gogh_starry_night_tv_loss/ckpt-31\n",
            "Saved checkpoint: ./logs/checkpoints/experiment_van_gogh_starry_night_tv_loss/ckpt-32\n",
            "Saved checkpoint: ./logs/checkpoints/experiment_van_gogh_starry_night_tv_loss/ckpt-33\n",
            "Saved checkpoint: ./logs/checkpoints/experiment_van_gogh_starry_night_tv_loss/ckpt-34\n",
            "Saved checkpoint: ./logs/checkpoints/experiment_van_gogh_starry_night_tv_loss/ckpt-35\n",
            "Saved checkpoint: ./logs/checkpoints/experiment_van_gogh_starry_night_tv_loss/ckpt-36\n",
            "Saved checkpoint: ./logs/checkpoints/experiment_van_gogh_starry_night_tv_loss/ckpt-37\n",
            "Saved checkpoint: ./logs/checkpoints/experiment_van_gogh_starry_night_tv_loss/ckpt-38\n",
            "Saved checkpoint: ./logs/checkpoints/experiment_van_gogh_starry_night_tv_loss/ckpt-39\n",
            "Saved checkpoint: ./logs/checkpoints/experiment_van_gogh_starry_night_tv_loss/ckpt-40\n",
            "Saved checkpoint: ./logs/checkpoints/experiment_van_gogh_starry_night_tv_loss/ckpt-41\n",
            "Saved checkpoint: ./logs/checkpoints/experiment_van_gogh_starry_night_tv_loss/ckpt-42\n",
            "Saved checkpoint: ./logs/checkpoints/experiment_van_gogh_starry_night_tv_loss/ckpt-43\n",
            "Saved checkpoint: ./logs/checkpoints/experiment_van_gogh_starry_night_tv_loss/ckpt-44\n",
            "Saved checkpoint: ./logs/checkpoints/experiment_van_gogh_starry_night_tv_loss/ckpt-45\n",
            "\n"
          ],
          "name": "stdout"
        }
      ]
    },
    {
      "cell_type": "code",
      "metadata": {
        "id": "xVYceVlRk-1q"
      },
      "source": [
        ""
      ],
      "execution_count": null,
      "outputs": []
    }
  ]
}