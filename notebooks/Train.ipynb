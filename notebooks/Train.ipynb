{
  "nbformat": 4,
  "nbformat_minor": 0,
  "metadata": {
    "colab": {
      "name": "Train.ipynb",
      "provenance": [],
      "collapsed_sections": [],
      "authorship_tag": "ABX9TyOvEub4duiGqMIkNRslkEFh",
      "include_colab_link": true
    },
    "kernelspec": {
      "name": "python3",
      "display_name": "Python 3"
    },
    "accelerator": "GPU",
    "widgets": {
      "application/vnd.jupyter.widget-state+json": {
        "12038ded64e341518566cd3dae3e9068": {
          "model_module": "@jupyter-widgets/controls",
          "model_name": "HBoxModel",
          "state": {
            "_view_name": "HBoxView",
            "_dom_classes": [],
            "_model_name": "HBoxModel",
            "_view_module": "@jupyter-widgets/controls",
            "_model_module_version": "1.5.0",
            "_view_count": null,
            "_view_module_version": "1.5.0",
            "box_style": "",
            "layout": "IPY_MODEL_2bf0c97d1fbf47dd87d848d84f1d6072",
            "_model_module": "@jupyter-widgets/controls",
            "children": [
              "IPY_MODEL_d2b8f899783945bab7115e40b286be8d",
              "IPY_MODEL_781103ecad9a4f94b750b97cb43bf665"
            ]
          }
        },
        "2bf0c97d1fbf47dd87d848d84f1d6072": {
          "model_module": "@jupyter-widgets/base",
          "model_name": "LayoutModel",
          "state": {
            "_view_name": "LayoutView",
            "grid_template_rows": null,
            "right": null,
            "justify_content": null,
            "_view_module": "@jupyter-widgets/base",
            "overflow": null,
            "_model_module_version": "1.2.0",
            "_view_count": null,
            "flex_flow": null,
            "width": null,
            "min_width": null,
            "border": null,
            "align_items": null,
            "bottom": null,
            "_model_module": "@jupyter-widgets/base",
            "top": null,
            "grid_column": null,
            "overflow_y": null,
            "overflow_x": null,
            "grid_auto_flow": null,
            "grid_area": null,
            "grid_template_columns": null,
            "flex": null,
            "_model_name": "LayoutModel",
            "justify_items": null,
            "grid_row": null,
            "max_height": null,
            "align_content": null,
            "visibility": null,
            "align_self": null,
            "height": null,
            "min_height": null,
            "padding": null,
            "grid_auto_rows": null,
            "grid_gap": null,
            "max_width": null,
            "order": null,
            "_view_module_version": "1.2.0",
            "grid_template_areas": null,
            "object_position": null,
            "object_fit": null,
            "grid_auto_columns": null,
            "margin": null,
            "display": null,
            "left": null
          }
        },
        "d2b8f899783945bab7115e40b286be8d": {
          "model_module": "@jupyter-widgets/controls",
          "model_name": "FloatProgressModel",
          "state": {
            "_view_name": "ProgressView",
            "style": "IPY_MODEL_0fff879bed62470190bbba6c44ee53b7",
            "_dom_classes": [],
            "description": "100%",
            "_model_name": "FloatProgressModel",
            "bar_style": "success",
            "max": 1143,
            "_view_module": "@jupyter-widgets/controls",
            "_model_module_version": "1.5.0",
            "value": 1143,
            "_view_count": null,
            "_view_module_version": "1.5.0",
            "orientation": "horizontal",
            "min": 0,
            "description_tooltip": null,
            "_model_module": "@jupyter-widgets/controls",
            "layout": "IPY_MODEL_0805b6d36de6435889a804da2eeeb520"
          }
        },
        "781103ecad9a4f94b750b97cb43bf665": {
          "model_module": "@jupyter-widgets/controls",
          "model_name": "HTMLModel",
          "state": {
            "_view_name": "HTMLView",
            "style": "IPY_MODEL_c68e3c0808a2422d82870c7e9c3b22e7",
            "_dom_classes": [],
            "description": "",
            "_model_name": "HTMLModel",
            "placeholder": "​",
            "_view_module": "@jupyter-widgets/controls",
            "_model_module_version": "1.5.0",
            "value": " 1143/1143 [43:33&lt;00:00,  2.29s/it]",
            "_view_count": null,
            "_view_module_version": "1.5.0",
            "description_tooltip": null,
            "_model_module": "@jupyter-widgets/controls",
            "layout": "IPY_MODEL_3f6613ae1b8a429aa61dd078e2c25cc7"
          }
        },
        "0fff879bed62470190bbba6c44ee53b7": {
          "model_module": "@jupyter-widgets/controls",
          "model_name": "ProgressStyleModel",
          "state": {
            "_view_name": "StyleView",
            "_model_name": "ProgressStyleModel",
            "description_width": "initial",
            "_view_module": "@jupyter-widgets/base",
            "_model_module_version": "1.5.0",
            "_view_count": null,
            "_view_module_version": "1.2.0",
            "bar_color": null,
            "_model_module": "@jupyter-widgets/controls"
          }
        },
        "0805b6d36de6435889a804da2eeeb520": {
          "model_module": "@jupyter-widgets/base",
          "model_name": "LayoutModel",
          "state": {
            "_view_name": "LayoutView",
            "grid_template_rows": null,
            "right": null,
            "justify_content": null,
            "_view_module": "@jupyter-widgets/base",
            "overflow": null,
            "_model_module_version": "1.2.0",
            "_view_count": null,
            "flex_flow": null,
            "width": null,
            "min_width": null,
            "border": null,
            "align_items": null,
            "bottom": null,
            "_model_module": "@jupyter-widgets/base",
            "top": null,
            "grid_column": null,
            "overflow_y": null,
            "overflow_x": null,
            "grid_auto_flow": null,
            "grid_area": null,
            "grid_template_columns": null,
            "flex": null,
            "_model_name": "LayoutModel",
            "justify_items": null,
            "grid_row": null,
            "max_height": null,
            "align_content": null,
            "visibility": null,
            "align_self": null,
            "height": null,
            "min_height": null,
            "padding": null,
            "grid_auto_rows": null,
            "grid_gap": null,
            "max_width": null,
            "order": null,
            "_view_module_version": "1.2.0",
            "grid_template_areas": null,
            "object_position": null,
            "object_fit": null,
            "grid_auto_columns": null,
            "margin": null,
            "display": null,
            "left": null
          }
        },
        "c68e3c0808a2422d82870c7e9c3b22e7": {
          "model_module": "@jupyter-widgets/controls",
          "model_name": "DescriptionStyleModel",
          "state": {
            "_view_name": "StyleView",
            "_model_name": "DescriptionStyleModel",
            "description_width": "",
            "_view_module": "@jupyter-widgets/base",
            "_model_module_version": "1.5.0",
            "_view_count": null,
            "_view_module_version": "1.2.0",
            "_model_module": "@jupyter-widgets/controls"
          }
        },
        "3f6613ae1b8a429aa61dd078e2c25cc7": {
          "model_module": "@jupyter-widgets/base",
          "model_name": "LayoutModel",
          "state": {
            "_view_name": "LayoutView",
            "grid_template_rows": null,
            "right": null,
            "justify_content": null,
            "_view_module": "@jupyter-widgets/base",
            "overflow": null,
            "_model_module_version": "1.2.0",
            "_view_count": null,
            "flex_flow": null,
            "width": null,
            "min_width": null,
            "border": null,
            "align_items": null,
            "bottom": null,
            "_model_module": "@jupyter-widgets/base",
            "top": null,
            "grid_column": null,
            "overflow_y": null,
            "overflow_x": null,
            "grid_auto_flow": null,
            "grid_area": null,
            "grid_template_columns": null,
            "flex": null,
            "_model_name": "LayoutModel",
            "justify_items": null,
            "grid_row": null,
            "max_height": null,
            "align_content": null,
            "visibility": null,
            "align_self": null,
            "height": null,
            "min_height": null,
            "padding": null,
            "grid_auto_rows": null,
            "grid_gap": null,
            "max_width": null,
            "order": null,
            "_view_module_version": "1.2.0",
            "grid_template_areas": null,
            "object_position": null,
            "object_fit": null,
            "grid_auto_columns": null,
            "margin": null,
            "display": null,
            "left": null
          }
        },
        "4c87ba22bde34eb2b0a14b7c17f39aac": {
          "model_module": "@jupyter-widgets/controls",
          "model_name": "HBoxModel",
          "state": {
            "_view_name": "HBoxView",
            "_dom_classes": [],
            "_model_name": "HBoxModel",
            "_view_module": "@jupyter-widgets/controls",
            "_model_module_version": "1.5.0",
            "_view_count": null,
            "_view_module_version": "1.5.0",
            "box_style": "",
            "layout": "IPY_MODEL_587de51c8b144a14bf6f68efe8f156c4",
            "_model_module": "@jupyter-widgets/controls",
            "children": [
              "IPY_MODEL_bbac9db61a7f4d898dbb346159b7a2c9",
              "IPY_MODEL_ce4df5ee7d994078937c27e6ba485e73"
            ]
          }
        },
        "587de51c8b144a14bf6f68efe8f156c4": {
          "model_module": "@jupyter-widgets/base",
          "model_name": "LayoutModel",
          "state": {
            "_view_name": "LayoutView",
            "grid_template_rows": null,
            "right": null,
            "justify_content": null,
            "_view_module": "@jupyter-widgets/base",
            "overflow": null,
            "_model_module_version": "1.2.0",
            "_view_count": null,
            "flex_flow": null,
            "width": null,
            "min_width": null,
            "border": null,
            "align_items": null,
            "bottom": null,
            "_model_module": "@jupyter-widgets/base",
            "top": null,
            "grid_column": null,
            "overflow_y": null,
            "overflow_x": null,
            "grid_auto_flow": null,
            "grid_area": null,
            "grid_template_columns": null,
            "flex": null,
            "_model_name": "LayoutModel",
            "justify_items": null,
            "grid_row": null,
            "max_height": null,
            "align_content": null,
            "visibility": null,
            "align_self": null,
            "height": null,
            "min_height": null,
            "padding": null,
            "grid_auto_rows": null,
            "grid_gap": null,
            "max_width": null,
            "order": null,
            "_view_module_version": "1.2.0",
            "grid_template_areas": null,
            "object_position": null,
            "object_fit": null,
            "grid_auto_columns": null,
            "margin": null,
            "display": null,
            "left": null
          }
        },
        "bbac9db61a7f4d898dbb346159b7a2c9": {
          "model_module": "@jupyter-widgets/controls",
          "model_name": "FloatProgressModel",
          "state": {
            "_view_name": "ProgressView",
            "style": "IPY_MODEL_d6015658291e44388f908193786de0e2",
            "_dom_classes": [],
            "description": "100%",
            "_model_name": "FloatProgressModel",
            "bar_style": "success",
            "max": 1143,
            "_view_module": "@jupyter-widgets/controls",
            "_model_module_version": "1.5.0",
            "value": 1143,
            "_view_count": null,
            "_view_module_version": "1.5.0",
            "orientation": "horizontal",
            "min": 0,
            "description_tooltip": null,
            "_model_module": "@jupyter-widgets/controls",
            "layout": "IPY_MODEL_dc96390e0dc04c48bc16222181d37962"
          }
        },
        "ce4df5ee7d994078937c27e6ba485e73": {
          "model_module": "@jupyter-widgets/controls",
          "model_name": "HTMLModel",
          "state": {
            "_view_name": "HTMLView",
            "style": "IPY_MODEL_f0ec955f11a34a138b4edd3a1b5253b5",
            "_dom_classes": [],
            "description": "",
            "_model_name": "HTMLModel",
            "placeholder": "​",
            "_view_module": "@jupyter-widgets/controls",
            "_model_module_version": "1.5.0",
            "value": " 1143/1143 [13:26&lt;00:00,  1.42it/s]",
            "_view_count": null,
            "_view_module_version": "1.5.0",
            "description_tooltip": null,
            "_model_module": "@jupyter-widgets/controls",
            "layout": "IPY_MODEL_88e14becbdf64adf9e89864bb2d8c97b"
          }
        },
        "d6015658291e44388f908193786de0e2": {
          "model_module": "@jupyter-widgets/controls",
          "model_name": "ProgressStyleModel",
          "state": {
            "_view_name": "StyleView",
            "_model_name": "ProgressStyleModel",
            "description_width": "initial",
            "_view_module": "@jupyter-widgets/base",
            "_model_module_version": "1.5.0",
            "_view_count": null,
            "_view_module_version": "1.2.0",
            "bar_color": null,
            "_model_module": "@jupyter-widgets/controls"
          }
        },
        "dc96390e0dc04c48bc16222181d37962": {
          "model_module": "@jupyter-widgets/base",
          "model_name": "LayoutModel",
          "state": {
            "_view_name": "LayoutView",
            "grid_template_rows": null,
            "right": null,
            "justify_content": null,
            "_view_module": "@jupyter-widgets/base",
            "overflow": null,
            "_model_module_version": "1.2.0",
            "_view_count": null,
            "flex_flow": null,
            "width": null,
            "min_width": null,
            "border": null,
            "align_items": null,
            "bottom": null,
            "_model_module": "@jupyter-widgets/base",
            "top": null,
            "grid_column": null,
            "overflow_y": null,
            "overflow_x": null,
            "grid_auto_flow": null,
            "grid_area": null,
            "grid_template_columns": null,
            "flex": null,
            "_model_name": "LayoutModel",
            "justify_items": null,
            "grid_row": null,
            "max_height": null,
            "align_content": null,
            "visibility": null,
            "align_self": null,
            "height": null,
            "min_height": null,
            "padding": null,
            "grid_auto_rows": null,
            "grid_gap": null,
            "max_width": null,
            "order": null,
            "_view_module_version": "1.2.0",
            "grid_template_areas": null,
            "object_position": null,
            "object_fit": null,
            "grid_auto_columns": null,
            "margin": null,
            "display": null,
            "left": null
          }
        },
        "f0ec955f11a34a138b4edd3a1b5253b5": {
          "model_module": "@jupyter-widgets/controls",
          "model_name": "DescriptionStyleModel",
          "state": {
            "_view_name": "StyleView",
            "_model_name": "DescriptionStyleModel",
            "description_width": "",
            "_view_module": "@jupyter-widgets/base",
            "_model_module_version": "1.5.0",
            "_view_count": null,
            "_view_module_version": "1.2.0",
            "_model_module": "@jupyter-widgets/controls"
          }
        },
        "88e14becbdf64adf9e89864bb2d8c97b": {
          "model_module": "@jupyter-widgets/base",
          "model_name": "LayoutModel",
          "state": {
            "_view_name": "LayoutView",
            "grid_template_rows": null,
            "right": null,
            "justify_content": null,
            "_view_module": "@jupyter-widgets/base",
            "overflow": null,
            "_model_module_version": "1.2.0",
            "_view_count": null,
            "flex_flow": null,
            "width": null,
            "min_width": null,
            "border": null,
            "align_items": null,
            "bottom": null,
            "_model_module": "@jupyter-widgets/base",
            "top": null,
            "grid_column": null,
            "overflow_y": null,
            "overflow_x": null,
            "grid_auto_flow": null,
            "grid_area": null,
            "grid_template_columns": null,
            "flex": null,
            "_model_name": "LayoutModel",
            "justify_items": null,
            "grid_row": null,
            "max_height": null,
            "align_content": null,
            "visibility": null,
            "align_self": null,
            "height": null,
            "min_height": null,
            "padding": null,
            "grid_auto_rows": null,
            "grid_gap": null,
            "max_width": null,
            "order": null,
            "_view_module_version": "1.2.0",
            "grid_template_areas": null,
            "object_position": null,
            "object_fit": null,
            "grid_auto_columns": null,
            "margin": null,
            "display": null,
            "left": null
          }
        }
      }
    }
  },
  "cells": [
    {
      "cell_type": "markdown",
      "metadata": {
        "id": "view-in-github",
        "colab_type": "text"
      },
      "source": [
        "<a href=\"https://colab.research.google.com/github/soumik12345/Real-Time-Style-Transfer/blob/master/notebooks/Train.ipynb\" target=\"_parent\"><img src=\"https://colab.research.google.com/assets/colab-badge.svg\" alt=\"Open In Colab\"/></a>"
      ]
    },
    {
      "cell_type": "code",
      "metadata": {
        "colab": {
          "base_uri": "https://localhost:8080/"
        },
        "id": "-hoMwuf0SP5N",
        "outputId": "45945df8-6b24-4a23-fab4-d190b5cfda0e"
      },
      "source": [
        "!nvidia-smi -L"
      ],
      "execution_count": 1,
      "outputs": [
        {
          "output_type": "stream",
          "text": [
            "GPU 0: Tesla T4 (UUID: GPU-6bb429ba-d40f-f14a-d2bc-d05da35191b8)\n"
          ],
          "name": "stdout"
        }
      ]
    },
    {
      "cell_type": "code",
      "metadata": {
        "colab": {
          "base_uri": "https://localhost:8080/"
        },
        "id": "kfHj9lZ8Pw4l",
        "outputId": "9f74ef92-1c52-43ca-9f1a-4b1520a22705"
      },
      "source": [
        "from google.colab import drive\n",
        "drive.mount('/content/drive')"
      ],
      "execution_count": 2,
      "outputs": [
        {
          "output_type": "stream",
          "text": [
            "Mounted at /content/drive\n"
          ],
          "name": "stdout"
        }
      ]
    },
    {
      "cell_type": "code",
      "metadata": {
        "colab": {
          "base_uri": "https://localhost:8080/"
        },
        "id": "GRPQPHh9Py6w",
        "outputId": "b0cce1a4-0857-4247-fa51-c1e0da9e6342"
      },
      "source": [
        "import os\n",
        "import urllib\n",
        "from getpass import getpass\n",
        "\n",
        "\n",
        "user = input('User name: ')\n",
        "password = getpass('Password: ')\n",
        "password = urllib.parse.quote(password)\n",
        "repo_address = input('Repo Address: ')\n",
        "branch_name = input('Branch name: ')\n",
        "\n",
        "cmd_string = 'git clone https://{}:{}@github.com/{}.git -b {}'.format(\n",
        "    user, password, repo_address, branch_name\n",
        ")\n",
        "\n",
        "os.system(cmd_string)\n",
        "cmd_string, password = \"\", \"\""
      ],
      "execution_count": 3,
      "outputs": [
        {
          "output_type": "stream",
          "text": [
            "User name: soumik12345\n",
            "Password: ··········\n",
            "Repo Address: soumik12345/Real-Time-Style-Transfer\n",
            "Branch name: master\n"
          ],
          "name": "stdout"
        }
      ]
    },
    {
      "cell_type": "code",
      "metadata": {
        "colab": {
          "base_uri": "https://localhost:8080/"
        },
        "id": "0TTr2utwQBxk",
        "outputId": "463b811c-c3a8-4468-fc03-43776a5147ea"
      },
      "source": [
        "%cd ./Real-Time-Style-Transfer\n",
        "!pip install -qq wandb tensorflow-addons"
      ],
      "execution_count": 1,
      "outputs": [
        {
          "output_type": "stream",
          "text": [
            "/content/Real-Time-Style-Transfer\n"
          ],
          "name": "stdout"
        }
      ]
    },
    {
      "cell_type": "code",
      "metadata": {
        "id": "32DTCKLySV2z"
      },
      "source": [
        "from glob import glob\n",
        "from style_transfer import Trainer\n",
        "from style_transfer import Dataloader"
      ],
      "execution_count": 2,
      "outputs": []
    },
    {
      "cell_type": "code",
      "metadata": {
        "colab": {
          "base_uri": "https://localhost:8080/"
        },
        "id": "fnLdfr59SY3w",
        "outputId": "043c712f-d840-47a4-8617-653601550466"
      },
      "source": [
        "image_files = glob(\n",
        "    '../drive/MyDrive/Datasets/coco_2014_train/train2014/*.jpg')\n",
        "print(len(image_files))"
      ],
      "execution_count": 3,
      "outputs": [
        {
          "output_type": "stream",
          "text": [
            "18281\n"
          ],
          "name": "stdout"
        }
      ]
    },
    {
      "cell_type": "code",
      "metadata": {
        "colab": {
          "base_uri": "https://localhost:8080/"
        },
        "id": "btQY2N2SSaES",
        "outputId": "5a2ced3f-f941-4544-aa44-15b29792d10d"
      },
      "source": [
        "dataloader = Dataloader(image_size=256)\n",
        "dataset = dataloader.get_dataset(image_files, batch_size=16)\n",
        "dataset"
      ],
      "execution_count": 4,
      "outputs": [
        {
          "output_type": "execute_result",
          "data": {
            "text/plain": [
              "<PrefetchDataset shapes: (None, 256, 256, 3), types: tf.float32>"
            ]
          },
          "metadata": {
            "tags": []
          },
          "execution_count": 4
        }
      ]
    },
    {
      "cell_type": "code",
      "metadata": {
        "colab": {
          "base_uri": "https://localhost:8080/"
        },
        "id": "Fv42cjsfRyD5",
        "outputId": "a88aa005-d009-4bba-cd00-7843f2c49bdc"
      },
      "source": [
        "!wget https://cdn.britannica.com/78/43678-050-F4DC8D93/Starry-Night-canvas-Vincent-van-Gogh-New-1889.jpg"
      ],
      "execution_count": 5,
      "outputs": [
        {
          "output_type": "stream",
          "text": [
            "--2021-02-23 12:52:57--  https://cdn.britannica.com/78/43678-050-F4DC8D93/Starry-Night-canvas-Vincent-van-Gogh-New-1889.jpg\n",
            "Resolving cdn.britannica.com (cdn.britannica.com)... 99.86.189.115, 99.86.189.50, 99.86.189.49, ...\n",
            "Connecting to cdn.britannica.com (cdn.britannica.com)|99.86.189.115|:443... connected.\n",
            "HTTP request sent, awaiting response... 200 OK\n",
            "Length: 884624 (864K) [image/jpeg]\n",
            "Saving to: ‘Starry-Night-canvas-Vincent-van-Gogh-New-1889.jpg.1’\n",
            "\n",
            "\r          Starry-Ni   0%[                    ]       0  --.-KB/s               \rStarry-Night-canvas 100%[===================>] 863.89K  --.-KB/s    in 0.007s  \n",
            "\n",
            "2021-02-23 12:52:57 (122 MB/s) - ‘Starry-Night-canvas-Vincent-van-Gogh-New-1889.jpg.1’ saved [884624/884624]\n",
            "\n"
          ],
          "name": "stdout"
        }
      ]
    },
    {
      "cell_type": "code",
      "metadata": {
        "id": "HqL6g97aSbQT"
      },
      "source": [
        "trainer = Trainer(\n",
        "    experiment_name='experiment_van_gogh_starry_night_tv_loss_3',\n",
        "    wandb_api_key='cf0947ccde62903d4df0742a58b8a54ca4c11673',\n",
        "    sample_content_image_file=glob('../drive/MyDrive/Datasets/coco_2014_train/train2014/*1024.jpg')[0],\n",
        "    style_image_file='/content/Real-Time-Style-Transfer/Starry-Night-canvas-Vincent-van-Gogh-New-1889.jpg',\n",
        "    style_weight=100.0, content_weight=7.5, content_layers=['block2_conv2'], total_variation_weight=200,\n",
        "    style_layers=['block1_conv2', 'block2_conv2', 'block3_conv3', 'block4_conv3']\n",
        ")"
      ],
      "execution_count": 6,
      "outputs": []
    },
    {
      "cell_type": "code",
      "metadata": {
        "colab": {
          "base_uri": "https://localhost:8080/",
          "height": 153
        },
        "id": "Cv7YC0YKScfj",
        "outputId": "6cf56111-da6f-4384-eb3f-cd68e44e272e"
      },
      "source": [
        "trainer.compile(dataset=dataset, learning_rate=1e-3)"
      ],
      "execution_count": 7,
      "outputs": [
        {
          "output_type": "stream",
          "text": [
            "\u001b[34m\u001b[1mwandb\u001b[0m: Currently logged in as: \u001b[33m19soumik-rakshit96\u001b[0m (use `wandb login --relogin` to force relogin)\n"
          ],
          "name": "stderr"
        },
        {
          "output_type": "display_data",
          "data": {
            "text/html": [
              "\n",
              "                Tracking run with wandb version 0.10.20<br/>\n",
              "                Syncing run <strong style=\"color:#cdcd00\">experiment_van_gogh_starry_night_tv_loss_3</strong> to <a href=\"https://wandb.ai\" target=\"_blank\">Weights & Biases</a> <a href=\"https://docs.wandb.com/integrations/jupyter.html\" target=\"_blank\">(Documentation)</a>.<br/>\n",
              "                Project page: <a href=\"https://wandb.ai/19soumik-rakshit96/real-time-style-transfer\" target=\"_blank\">https://wandb.ai/19soumik-rakshit96/real-time-style-transfer</a><br/>\n",
              "                Run page: <a href=\"https://wandb.ai/19soumik-rakshit96/real-time-style-transfer/runs/1g8app5o\" target=\"_blank\">https://wandb.ai/19soumik-rakshit96/real-time-style-transfer/runs/1g8app5o</a><br/>\n",
              "                Run data is saved locally in <code>/content/Real-Time-Style-Transfer/wandb/run-20210223_125304-1g8app5o</code><br/><br/>\n",
              "            "
            ],
            "text/plain": [
              "<IPython.core.display.HTML object>"
            ]
          },
          "metadata": {
            "tags": []
          }
        },
        {
          "output_type": "stream",
          "text": [
            "Training from scratch....\n"
          ],
          "name": "stdout"
        }
      ]
    },
    {
      "cell_type": "code",
      "metadata": {
        "colab": {
          "base_uri": "https://localhost:8080/",
          "height": 914,
          "referenced_widgets": [
            "12038ded64e341518566cd3dae3e9068",
            "2bf0c97d1fbf47dd87d848d84f1d6072",
            "d2b8f899783945bab7115e40b286be8d",
            "781103ecad9a4f94b750b97cb43bf665",
            "0fff879bed62470190bbba6c44ee53b7",
            "0805b6d36de6435889a804da2eeeb520",
            "c68e3c0808a2422d82870c7e9c3b22e7",
            "3f6613ae1b8a429aa61dd078e2c25cc7",
            "4c87ba22bde34eb2b0a14b7c17f39aac",
            "587de51c8b144a14bf6f68efe8f156c4",
            "bbac9db61a7f4d898dbb346159b7a2c9",
            "ce4df5ee7d994078937c27e6ba485e73",
            "d6015658291e44388f908193786de0e2",
            "dc96390e0dc04c48bc16222181d37962",
            "f0ec955f11a34a138b4edd3a1b5253b5",
            "88e14becbdf64adf9e89864bb2d8c97b"
          ]
        },
        "id": "OO4rgAaYSeL5",
        "outputId": "831fd0d0-9af9-4c65-c401-da31f4e662a3"
      },
      "source": [
        "trainer.train(epochs=2, log_interval=50, notebook=True)"
      ],
      "execution_count": 8,
      "outputs": [
        {
          "output_type": "stream",
          "text": [
            "Epoch: (1/2)\n"
          ],
          "name": "stdout"
        },
        {
          "output_type": "display_data",
          "data": {
            "application/vnd.jupyter.widget-view+json": {
              "model_id": "12038ded64e341518566cd3dae3e9068",
              "version_minor": 0,
              "version_major": 2
            },
            "text/plain": [
              "HBox(children=(FloatProgress(value=0.0, max=1143.0), HTML(value='')))"
            ]
          },
          "metadata": {
            "tags": []
          }
        },
        {
          "output_type": "stream",
          "text": [
            "Saved checkpoint: ./logs/checkpoints/experiment_van_gogh_starry_night_tv_loss_3/ckpt-1\n",
            "Saved checkpoint: ./logs/checkpoints/experiment_van_gogh_starry_night_tv_loss_3/ckpt-2\n",
            "Saved checkpoint: ./logs/checkpoints/experiment_van_gogh_starry_night_tv_loss_3/ckpt-3\n",
            "Saved checkpoint: ./logs/checkpoints/experiment_van_gogh_starry_night_tv_loss_3/ckpt-4\n",
            "Saved checkpoint: ./logs/checkpoints/experiment_van_gogh_starry_night_tv_loss_3/ckpt-5\n",
            "Saved checkpoint: ./logs/checkpoints/experiment_van_gogh_starry_night_tv_loss_3/ckpt-6\n",
            "Saved checkpoint: ./logs/checkpoints/experiment_van_gogh_starry_night_tv_loss_3/ckpt-7\n",
            "Saved checkpoint: ./logs/checkpoints/experiment_van_gogh_starry_night_tv_loss_3/ckpt-8\n",
            "Saved checkpoint: ./logs/checkpoints/experiment_van_gogh_starry_night_tv_loss_3/ckpt-9\n",
            "Saved checkpoint: ./logs/checkpoints/experiment_van_gogh_starry_night_tv_loss_3/ckpt-10\n",
            "Saved checkpoint: ./logs/checkpoints/experiment_van_gogh_starry_night_tv_loss_3/ckpt-11\n",
            "Saved checkpoint: ./logs/checkpoints/experiment_van_gogh_starry_night_tv_loss_3/ckpt-12\n",
            "Saved checkpoint: ./logs/checkpoints/experiment_van_gogh_starry_night_tv_loss_3/ckpt-13\n",
            "Saved checkpoint: ./logs/checkpoints/experiment_van_gogh_starry_night_tv_loss_3/ckpt-14\n",
            "Saved checkpoint: ./logs/checkpoints/experiment_van_gogh_starry_night_tv_loss_3/ckpt-15\n",
            "Saved checkpoint: ./logs/checkpoints/experiment_van_gogh_starry_night_tv_loss_3/ckpt-16\n",
            "Saved checkpoint: ./logs/checkpoints/experiment_van_gogh_starry_night_tv_loss_3/ckpt-17\n",
            "Saved checkpoint: ./logs/checkpoints/experiment_van_gogh_starry_night_tv_loss_3/ckpt-18\n",
            "Saved checkpoint: ./logs/checkpoints/experiment_van_gogh_starry_night_tv_loss_3/ckpt-19\n",
            "Saved checkpoint: ./logs/checkpoints/experiment_van_gogh_starry_night_tv_loss_3/ckpt-20\n",
            "Saved checkpoint: ./logs/checkpoints/experiment_van_gogh_starry_night_tv_loss_3/ckpt-21\n",
            "Saved checkpoint: ./logs/checkpoints/experiment_van_gogh_starry_night_tv_loss_3/ckpt-22\n",
            "\n",
            "Epoch: (2/2)\n"
          ],
          "name": "stdout"
        },
        {
          "output_type": "display_data",
          "data": {
            "application/vnd.jupyter.widget-view+json": {
              "model_id": "4c87ba22bde34eb2b0a14b7c17f39aac",
              "version_minor": 0,
              "version_major": 2
            },
            "text/plain": [
              "HBox(children=(FloatProgress(value=0.0, max=1143.0), HTML(value='')))"
            ]
          },
          "metadata": {
            "tags": []
          }
        },
        {
          "output_type": "stream",
          "text": [
            "Saved checkpoint: ./logs/checkpoints/experiment_van_gogh_starry_night_tv_loss_3/ckpt-23\n",
            "Saved checkpoint: ./logs/checkpoints/experiment_van_gogh_starry_night_tv_loss_3/ckpt-24\n",
            "Saved checkpoint: ./logs/checkpoints/experiment_van_gogh_starry_night_tv_loss_3/ckpt-25\n",
            "Saved checkpoint: ./logs/checkpoints/experiment_van_gogh_starry_night_tv_loss_3/ckpt-26\n",
            "Saved checkpoint: ./logs/checkpoints/experiment_van_gogh_starry_night_tv_loss_3/ckpt-27\n",
            "Saved checkpoint: ./logs/checkpoints/experiment_van_gogh_starry_night_tv_loss_3/ckpt-28\n",
            "Saved checkpoint: ./logs/checkpoints/experiment_van_gogh_starry_night_tv_loss_3/ckpt-29\n",
            "Saved checkpoint: ./logs/checkpoints/experiment_van_gogh_starry_night_tv_loss_3/ckpt-30\n",
            "Saved checkpoint: ./logs/checkpoints/experiment_van_gogh_starry_night_tv_loss_3/ckpt-31\n",
            "Saved checkpoint: ./logs/checkpoints/experiment_van_gogh_starry_night_tv_loss_3/ckpt-32\n",
            "Saved checkpoint: ./logs/checkpoints/experiment_van_gogh_starry_night_tv_loss_3/ckpt-33\n",
            "Saved checkpoint: ./logs/checkpoints/experiment_van_gogh_starry_night_tv_loss_3/ckpt-34\n",
            "Saved checkpoint: ./logs/checkpoints/experiment_van_gogh_starry_night_tv_loss_3/ckpt-35\n",
            "Saved checkpoint: ./logs/checkpoints/experiment_van_gogh_starry_night_tv_loss_3/ckpt-36\n",
            "Saved checkpoint: ./logs/checkpoints/experiment_van_gogh_starry_night_tv_loss_3/ckpt-37\n",
            "Saved checkpoint: ./logs/checkpoints/experiment_van_gogh_starry_night_tv_loss_3/ckpt-38\n",
            "Saved checkpoint: ./logs/checkpoints/experiment_van_gogh_starry_night_tv_loss_3/ckpt-39\n",
            "Saved checkpoint: ./logs/checkpoints/experiment_van_gogh_starry_night_tv_loss_3/ckpt-40\n",
            "Saved checkpoint: ./logs/checkpoints/experiment_van_gogh_starry_night_tv_loss_3/ckpt-41\n",
            "Saved checkpoint: ./logs/checkpoints/experiment_van_gogh_starry_night_tv_loss_3/ckpt-42\n",
            "Saved checkpoint: ./logs/checkpoints/experiment_van_gogh_starry_night_tv_loss_3/ckpt-43\n",
            "Saved checkpoint: ./logs/checkpoints/experiment_van_gogh_starry_night_tv_loss_3/ckpt-44\n",
            "Saved checkpoint: ./logs/checkpoints/experiment_van_gogh_starry_night_tv_loss_3/ckpt-45\n",
            "\n"
          ],
          "name": "stdout"
        }
      ]
    },
    {
      "cell_type": "code",
      "metadata": {
        "id": "xVYceVlRk-1q"
      },
      "source": [
        "trainer.save('../drive/MyDrive/Models/real_time_style_transfer/experiment_van_gogh_starry_night_tv_loss_3/weights')"
      ],
      "execution_count": 9,
      "outputs": []
    },
    {
      "cell_type": "code",
      "metadata": {
        "id": "jMQsYlvYKXBw"
      },
      "source": [
        ""
      ],
      "execution_count": null,
      "outputs": []
    }
  ]
}